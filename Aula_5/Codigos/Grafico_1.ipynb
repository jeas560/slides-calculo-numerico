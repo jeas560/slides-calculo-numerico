{
 "metadata": {
  "language_info": {
   "codemirror_mode": {
    "name": "ipython",
    "version": 3
   },
   "file_extension": ".py",
   "mimetype": "text/x-python",
   "name": "python",
   "nbconvert_exporter": "python",
   "pygments_lexer": "ipython3",
   "version": "3.9.2"
  },
  "orig_nbformat": 2,
  "kernelspec": {
   "name": "python3",
   "display_name": "Python 3.9.2 64-bit"
  },
  "metadata": {
   "interpreter": {
    "hash": "63fd5069d213b44bf678585dea6b12cceca9941eaf7f819626cde1f2670de90d"
   }
  },
  "interpreter": {
   "hash": "63fd5069d213b44bf678585dea6b12cceca9941eaf7f819626cde1f2670de90d"
  }
 },
 "nbformat": 4,
 "nbformat_minor": 2,
 "cells": [
  {
   "cell_type": "code",
   "execution_count": 6,
   "metadata": {},
   "outputs": [
    {
     "output_type": "display_data",
     "data": {
      "text/plain": "<Figure size 432x288 with 1 Axes>",
      "image/svg+xml": "<?xml version=\"1.0\" encoding=\"utf-8\" standalone=\"no\"?>\r\n<!DOCTYPE svg PUBLIC \"-//W3C//DTD SVG 1.1//EN\"\r\n  \"http://www.w3.org/Graphics/SVG/1.1/DTD/svg11.dtd\">\r\n<svg height=\"250.018125pt\" version=\"1.1\" viewBox=\"0 0 373.740625 250.018125\" width=\"373.740625pt\" xmlns=\"http://www.w3.org/2000/svg\" xmlns:xlink=\"http://www.w3.org/1999/xlink\">\r\n <metadata>\r\n  <rdf:RDF xmlns:cc=\"http://creativecommons.org/ns#\" xmlns:dc=\"http://purl.org/dc/elements/1.1/\" xmlns:rdf=\"http://www.w3.org/1999/02/22-rdf-syntax-ns#\">\r\n   <cc:Work>\r\n    <dc:type rdf:resource=\"http://purl.org/dc/dcmitype/StillImage\"/>\r\n    <dc:date>2021-07-12T07:44:52.993745</dc:date>\r\n    <dc:format>image/svg+xml</dc:format>\r\n    <dc:creator>\r\n     <cc:Agent>\r\n      <dc:title>Matplotlib v3.4.1, https://matplotlib.org/</dc:title>\r\n     </cc:Agent>\r\n    </dc:creator>\r\n   </cc:Work>\r\n  </rdf:RDF>\r\n </metadata>\r\n <defs>\r\n  <style type=\"text/css\">*{stroke-linecap:butt;stroke-linejoin:round;}</style>\r\n </defs>\r\n <g id=\"figure_1\">\r\n  <g id=\"patch_1\">\r\n   <path d=\"M 0 250.018125 \r\nL 373.740625 250.018125 \r\nL 373.740625 0 \r\nL 0 0 \r\nz\r\n\" style=\"fill:none;\"/>\r\n  </g>\r\n  <g id=\"axes_1\">\r\n   <g id=\"patch_2\">\r\n    <path d=\"M 31.740625 224.64 \r\nL 366.540625 224.64 \r\nL 366.540625 7.2 \r\nL 31.740625 7.2 \r\nz\r\n\" style=\"fill:#ffffff;\"/>\r\n   </g>\r\n   <g id=\"line2d_1\">\r\n    <path clip-path=\"url(#p742a786fbb)\" d=\"M 31.740625 170.28 \r\nL 366.540625 34.38 \r\n\" style=\"fill:none;stroke:#1f77b4;stroke-linecap:square;stroke-width:1.5;\"/>\r\n   </g>\r\n   <g id=\"line2d_2\">\r\n    <defs>\r\n     <path d=\"M 0 3 \r\nC 0.795609 3 1.55874 2.683901 2.12132 2.12132 \r\nC 2.683901 1.55874 3 0.795609 3 0 \r\nC 3 -0.795609 2.683901 -1.55874 2.12132 -2.12132 \r\nC 1.55874 -2.683901 0.795609 -3 0 -3 \r\nC -0.795609 -3 -1.55874 -2.683901 -2.12132 -2.12132 \r\nC -2.683901 -1.55874 -3 -0.795609 -3 0 \r\nC -3 0.795609 -2.683901 1.55874 -2.12132 2.12132 \r\nC -1.55874 2.683901 -0.795609 3 0 3 \r\nz\r\n\" id=\"m441cb52e45\" style=\"stroke:#ff0000;\"/>\r\n    </defs>\r\n    <g clip-path=\"url(#p742a786fbb)\">\r\n     <use style=\"fill:#ff0000;stroke:#ff0000;\" x=\"58.524625\" xlink:href=\"#m441cb52e45\" y=\"148.536\"/>\r\n     <use style=\"fill:#ff0000;stroke:#ff0000;\" x=\"85.308625\" xlink:href=\"#m441cb52e45\" y=\"170.28\"/>\r\n     <use style=\"fill:#ff0000;stroke:#ff0000;\" x=\"112.092625\" xlink:href=\"#m441cb52e45\" y=\"159.408\"/>\r\n     <use style=\"fill:#ff0000;stroke:#ff0000;\" x=\"165.660625\" xlink:href=\"#m441cb52e45\" y=\"105.048\"/>\r\n     <use style=\"fill:#ff0000;stroke:#ff0000;\" x=\"179.052625\" xlink:href=\"#m441cb52e45\" y=\"126.792\"/>\r\n     <use style=\"fill:#ff0000;stroke:#ff0000;\" x=\"246.012625\" xlink:href=\"#m441cb52e45\" y=\"72.432\"/>\r\n     <use style=\"fill:#ff0000;stroke:#ff0000;\" x=\"248.691025\" xlink:href=\"#m441cb52e45\" y=\"94.176\"/>\r\n     <use style=\"fill:#ff0000;stroke:#ff0000;\" x=\"299.580625\" xlink:href=\"#m441cb52e45\" y=\"72.432\"/>\r\n     <use style=\"fill:#ff0000;stroke:#ff0000;\" x=\"312.972625\" xlink:href=\"#m441cb52e45\" y=\"45.252\"/>\r\n     <use style=\"fill:#ff0000;stroke:#ff0000;\" x=\"326.364625\" xlink:href=\"#m441cb52e45\" y=\"61.56\"/>\r\n    </g>\r\n   </g>\r\n   <g id=\"mpl_toolkits.axisartist.axis_artist_1\">\r\n    <g id=\"patch_3\">\r\n     <path d=\"M 31.740625 224.64 \r\nL 366.540625 224.64 \r\nL 374.740625 224.64 \r\n\" style=\"fill:none;stroke:#000000;stroke-linecap:round;\"/>\r\n     <path d=\"M 371.422591 222.64 \r\nL 375.422591 224.64 \r\nL 371.422591 226.64 \r\nL 371.422591 222.64 \r\nz\r\n\" style=\"fill:#1f77b4;stroke:#000000;stroke-linecap:round;\"/>\r\n    </g>\r\n    <g id=\"text_1\">\r\n     <!-- x -->\r\n     <g transform=\"translate(196.18125 240.738437)scale(0.1 -0.1)\">\r\n      <defs>\r\n       <path d=\"M 3513 3500 \r\nL 2247 1797 \r\nL 3578 0 \r\nL 2900 0 \r\nL 1881 1375 \r\nL 863 0 \r\nL 184 0 \r\nL 1544 1831 \r\nL 300 3500 \r\nL 978 3500 \r\nL 1906 2253 \r\nL 2834 3500 \r\nL 3513 3500 \r\nz\r\n\" id=\"DejaVuSans-78\" transform=\"scale(0.015625)\"/>\r\n      </defs>\r\n      <use xlink:href=\"#DejaVuSans-78\"/>\r\n     </g>\r\n    </g>\r\n   </g>\r\n   <g id=\"mpl_toolkits.axisartist.axis_artist_2\">\r\n    <defs>\r\n     <path d=\"M 0 0 \r\nL 3.5 0 \r\n\" id=\"m52e8167efb\" style=\"stroke:#000000;stroke-width:0.8;\"/>\r\n    </defs>\r\n    <g>\r\n     <use style=\"fill:none;stroke:#000000;stroke-width:0.8;\" x=\"31.740625\" xlink:href=\"#m52e8167efb\" y=\"224.64\"/>\r\n    </g>\r\n    <g id=\"text_2\">\r\n     <!-- 0 -->\r\n     <g transform=\"translate(21.878125 227.399375)scale(0.1 -0.1)\">\r\n      <defs>\r\n       <path d=\"M 2034 4250 \r\nQ 1547 4250 1301 3770 \r\nQ 1056 3291 1056 2328 \r\nQ 1056 1369 1301 889 \r\nQ 1547 409 2034 409 \r\nQ 2525 409 2770 889 \r\nQ 3016 1369 3016 2328 \r\nQ 3016 3291 2770 3770 \r\nQ 2525 4250 2034 4250 \r\nz\r\nM 2034 4750 \r\nQ 2819 4750 3233 4129 \r\nQ 3647 3509 3647 2328 \r\nQ 3647 1150 3233 529 \r\nQ 2819 -91 2034 -91 \r\nQ 1250 -91 836 529 \r\nQ 422 1150 422 2328 \r\nQ 422 3509 836 4129 \r\nQ 1250 4750 2034 4750 \r\nz\r\n\" id=\"DejaVuSans-30\" transform=\"scale(0.015625)\"/>\r\n      </defs>\r\n      <use xlink:href=\"#DejaVuSans-30\"/>\r\n     </g>\r\n    </g>\r\n    <g id=\"patch_4\">\r\n     <path d=\"M 31.740625 224.64 \r\nL 31.740625 7.2 \r\nL 31.740625 -1 \r\n\" style=\"fill:none;stroke:#000000;stroke-linecap:round;\"/>\r\n     <path d=\"M 29.740625 2.318034 \r\nL 31.740625 -1.681966 \r\nL 33.740625 2.318034 \r\nL 29.740625 2.318034 \r\nz\r\n\" style=\"fill:#1f77b4;stroke:#000000;stroke-linecap:round;\"/>\r\n    </g>\r\n    <g id=\"text_3\">\r\n     <!-- F(x) -->\r\n     <g transform=\"translate(14.798438 125.656719)rotate(-90)scale(0.1 -0.1)\">\r\n      <defs>\r\n       <path d=\"M 628 4666 \r\nL 3309 4666 \r\nL 3309 4134 \r\nL 1259 4134 \r\nL 1259 2759 \r\nL 3109 2759 \r\nL 3109 2228 \r\nL 1259 2228 \r\nL 1259 0 \r\nL 628 0 \r\nL 628 4666 \r\nz\r\n\" id=\"DejaVuSans-46\" transform=\"scale(0.015625)\"/>\r\n       <path d=\"M 1984 4856 \r\nQ 1566 4138 1362 3434 \r\nQ 1159 2731 1159 2009 \r\nQ 1159 1288 1364 580 \r\nQ 1569 -128 1984 -844 \r\nL 1484 -844 \r\nQ 1016 -109 783 600 \r\nQ 550 1309 550 2009 \r\nQ 550 2706 781 3412 \r\nQ 1013 4119 1484 4856 \r\nL 1984 4856 \r\nz\r\n\" id=\"DejaVuSans-28\" transform=\"scale(0.015625)\"/>\r\n       <path d=\"M 513 4856 \r\nL 1013 4856 \r\nQ 1481 4119 1714 3412 \r\nQ 1947 2706 1947 2009 \r\nQ 1947 1309 1714 600 \r\nQ 1481 -109 1013 -844 \r\nL 513 -844 \r\nQ 928 -128 1133 580 \r\nQ 1338 1288 1338 2009 \r\nQ 1338 2731 1133 3434 \r\nQ 928 4138 513 4856 \r\nz\r\n\" id=\"DejaVuSans-29\" transform=\"scale(0.015625)\"/>\r\n      </defs>\r\n      <use xlink:href=\"#DejaVuSans-46\"/>\r\n      <use x=\"57.519531\" xlink:href=\"#DejaVuSans-28\"/>\r\n      <use x=\"96.533203\" xlink:href=\"#DejaVuSans-78\"/>\r\n      <use x=\"155.712891\" xlink:href=\"#DejaVuSans-29\"/>\r\n     </g>\r\n    </g>\r\n   </g>\r\n  </g>\r\n </g>\r\n <defs>\r\n  <clipPath id=\"p742a786fbb\">\r\n   <rect height=\"217.44\" width=\"334.8\" x=\"31.740625\" y=\"7.2\"/>\r\n  </clipPath>\r\n </defs>\r\n</svg>\r\n",
      "image/png": "[encoded data removed]"
     },
     "metadata": {
      "needs_background": "light"
     }
    }
   ],
   "source": [
    "#Importando as bibliotecas utilizadas\n",
    "from mpl_toolkits.axisartist.axislines import AxesZero\n",
    "import numpy as np  #biblioteca numérica\n",
    "import matplotlib.pyplot as plt\n",
    "\n",
    "save_figures = True\n",
    "\n",
    "fig = plt.figure()\n",
    "ax = fig.add_subplot(axes_class = AxesZero)\n",
    "\n",
    "for direction in [\"xzero\", \"yzero\"]:\n",
    "    # adds arrows at the ends of each axis\n",
    "    ax.axis[direction].set_axisline_style(\"-|>\")\n",
    "\n",
    "    # adds X and Y-axis from the origin\n",
    "    ax.axis[direction].set_visible(True)\n",
    "\n",
    "for direction in [\"left\", \"right\", \"bottom\", \"top\"]:\n",
    "    # hides borders\n",
    "    ax.axis[direction].set_visible(False)\n",
    "\n",
    "x1 = np.linspace(0, 1.25, 2)\n",
    "y1 = x1 + 0.5\n",
    "x2 = np.array([1,1.1,1.2,1.4,1.45,1.7,1.71,1.9,1.95,2.0])\n",
    "y2 = np.array([1.6,1.4,1.5,2.0,1.8,2.3,2.1,2.3,2.55,2.4])\n",
    "\n",
    "plt.plot(x1, y1)\n",
    "plt.plot(x2 - 0.9, y2 - 0.9, 'ro')\n",
    "plt.yticks([0])\n",
    "plt.xticks([])\n",
    "\n",
    "plt.ylim([0,2])\n",
    "plt.xlim([0,1.25])\n",
    "\n",
    "ax.set_xlabel(\"x\")\n",
    "ax.set_ylabel(\"F(x)\")\n",
    "\n",
    "if save_figures:\n",
    "    plt.savefig('../Figuras/grafico_01.pdf')\n",
    "plt.show()"
   ]
  },
  {
   "cell_type": "code",
   "execution_count": null,
   "metadata": {},
   "outputs": [],
   "source": []
  }
 ]
}